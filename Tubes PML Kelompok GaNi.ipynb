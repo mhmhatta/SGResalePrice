{
 "cells": [
  {
   "cell_type": "markdown",
   "id": "7381aab6",
   "metadata": {},
   "source": [
    "# Tubes Praktikum Machine Learning - Kelompok GaNi"
   ]
  },
  {
   "cell_type": "code",
   "execution_count": 2,
   "id": "17979205",
   "metadata": {},
   "outputs": [],
   "source": [
    "# Anggota Kelompok:\n",
    "\n",
    "# Daniel Andrew Ketaren\n",
    "# Sarmida Sinaga\n",
    "# Luthfi Muzhaffar Lubis\n",
    "# Muhammad Hatta Abdillah"
   ]
  },
  {
   "cell_type": "code",
   "execution_count": 1,
   "id": "5f8417c3",
   "metadata": {},
   "outputs": [],
   "source": [
    "#Import Code\n",
    "import pandas as pd\n",
    "import numpy as np\n",
    "from sklearn.model_selection import train_test_split\n",
    "from sklearn.preprocessing import StandardScaler\n",
    "from sklearn.feature_selection import SelectKBest, chi2\n",
    "from sklearn.model_selection import GridSearchCV\n",
    "from sklearn.linear_model import LogisticRegression\n",
    "from sklearn.preprocessing import StandardScaler\n",
    "from sklearn.feature_selection import SelectKBest, chi2\n",
    "from sklearn.metrics import accuracy_score"
   ]
  },
  {
   "cell_type": "markdown",
   "id": "3aeac2e0",
   "metadata": {},
   "source": [
    "# 1. Melakukan filter data"
   ]
  },
  {
   "cell_type": "code",
   "execution_count": 2,
   "id": "29ebdf20",
   "metadata": {},
   "outputs": [],
   "source": [
    "# Ketentuan yang harus diikuti dalam melakukan filtering data di Dataset Singapore HDB Resale Price\n",
    "\n",
    "# 1. Data dari kedua dataset disatukan\n",
    "# 2. Data yang digunakan hanya dalam rentang 2016 - 2020\n",
    "# 3. Maka, untuk data tahun 2015 akan dihilangkan.\n",
    "\n",
    "# 1. Data dari kedua dataset disatukan\n",
    "\n",
    "csv1 = 'D:/Daniel/2015-to-2016.csv'\n",
    "csv2 = 'D:/Daniel/2017-to-2020.csv'\n",
    "\n",
    "df1 = pd.read_csv(csv1)\n",
    "df2 = pd.read_csv(csv2)\n",
    "\n",
    "df_combined = pd.concat([df1, df2], axis=0, ignore_index=True)\n",
    "\n",
    "csv_combined = 'D:/Daniel/singapore-hdb-resale-price-combined.csv'\n",
    "df_combined.to_csv(csv_combined, index=False)\n",
    "\n"
   ]
  },
  {
   "cell_type": "code",
   "execution_count": 3,
   "id": "b7e3b936",
   "metadata": {},
   "outputs": [],
   "source": [
    "# 2. Membaca data yang telah dicombine\n",
    "\n",
    "df = pd.read_csv(csv_combined)"
   ]
  },
  {
   "cell_type": "code",
   "execution_count": 5,
   "id": "7ed9b811",
   "metadata": {},
   "outputs": [
    {
     "name": "stdout",
     "output_type": "stream",
     "text": [
      "0        2016-01\n",
      "1        2016-01\n",
      "2        2016-01\n",
      "3        2016-01\n",
      "4        2016-01\n",
      "          ...   \n",
      "99742    2020-09\n",
      "99743    2020-09\n",
      "99744    2020-09\n",
      "99745    2020-09\n",
      "99746    2020-09\n",
      "Name: month, Length: 99747, dtype: object\n"
     ]
    }
   ],
   "source": [
    "# 3. Memfilter data hanya 2016 sampai 2020 saja\n",
    "\n",
    "# Kondisi data sebelum data 2015 dihapus\n",
    "\n",
    "print(df['month'])\n",
    "\n",
    "# Penghapusan data\n",
    "tahun_target = ['2015']\n",
    "\n",
    "for i in range(len(df)):\n",
    "    tahun = df['month'][i].split(\"-\", 1)[0]\n",
    "    \n",
    "    if tahun in tahun_target:\n",
    "        df = df.drop(i)\n",
    "\n",
    "# Menghapus indeks data 2015\n",
    "df = df.reset_index(drop=True)\n",
    "\n",
    "# Kondisi data setelah data 2015 dihapus\n",
    "\n",
    "df.to_csv('2016-to-2020.csv', index=False)\n"
   ]
  },
  {
   "cell_type": "code",
   "execution_count": null,
   "id": "503172ae",
   "metadata": {},
   "outputs": [],
   "source": []
  }
 ],
 "metadata": {
  "kernelspec": {
   "display_name": "Python 3 (ipykernel)",
   "language": "python",
   "name": "python3"
  },
  "language_info": {
   "codemirror_mode": {
    "name": "ipython",
    "version": 3
   },
   "file_extension": ".py",
   "mimetype": "text/x-python",
   "name": "python",
   "nbconvert_exporter": "python",
   "pygments_lexer": "ipython3",
   "version": "3.10.5"
  }
 },
 "nbformat": 4,
 "nbformat_minor": 5
}
